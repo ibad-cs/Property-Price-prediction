{
  "nbformat": 4,
  "nbformat_minor": 0,
  "metadata": {
    "colab": {
      "provenance": []
    },
    "kernelspec": {
      "name": "python3",
      "display_name": "Python 3"
    },
    "language_info": {
      "name": "python"
    }
  },
  "cells": [
    {
      "cell_type": "markdown",
      "source": [
        "### Decision Tree Approach"
      ],
      "metadata": {
        "id": "z7o1c3koB1ee"
      }
    },
    {
      "cell_type": "code",
      "source": [
        "\n",
        "import pandas as pd\n",
        "from sklearn.model_selection import train_test_split\n",
        "from sklearn.tree import plot_tree  ##Used for plotting tree\n",
        "from sklearn.metrics import accuracy_score ##Used for comparing predicted Y values with actual Y values\n",
        "import matplotlib.pyplot as plt\n",
        "from sklearn.metrics import confusion_matrix ##For printing confusion matrix\n",
        "import numpy as np\n",
        "from sklearn.tree import DecisionTreeRegressor\n",
        "from sklearn.metrics import mean_squared_error\n",
        "from sklearn.metrics import r2_score\n",
        "\n",
        "# For reading data \n",
        "Dec_Tree_Data = pd.read_csv('kc_house_data.csv')\n",
        "\n",
        "# For selecting features and dividing them into independent and dependent variables\n",
        "X = Dec_Tree_Data.drop(['id','date', 'price'],axis=1)\n",
        "y = Dec_Tree_Data['price']\n",
        "\n",
        "# Split data into training and testing sets by 70:30 ratio\n",
        "X_train, X_test, y_train, y_test = train_test_split(X, y, test_size=0.3, random_state=42)\n",
        "\n",
        "# Create decision tree regressor and train using the 70 percent training data\n",
        "Dec_Tree_Model = DecisionTreeRegressor()\n",
        "Dec_Tree_Model.fit(X_train, y_train)\n",
        "\n",
        "# After model has been trained, use testing data to test the model\n",
        "y_pred = Dec_Tree_Model.predict(X_test)\n",
        "\n",
        "# Calculate and print mean squared error (MSE)\n",
        "mse = mean_squared_error(y_test, y_pred)\n",
        "print(\"Mean Squared Error:\", mse)\n",
        "\n",
        "r2 = r2_score(y_test, y_pred)\n",
        "print(\"R-squared score:\", r2)\n",
        "\n"
      ],
      "metadata": {
        "colab": {
          "base_uri": "https://localhost:8080/"
        },
        "id": "LrsOme1sdrCx",
        "outputId": "8cb4db71-fb60-4e23-dd39-97732a61be0e"
      },
      "execution_count": null,
      "outputs": [
        {
          "output_type": "stream",
          "name": "stdout",
          "text": [
            "Mean Squared Error: 38941104167.45365\n",
            "R-squared score: 0.7302622447395919\n"
          ]
        }
      ]
    },
    {
      "cell_type": "markdown",
      "source": [
        "## Linear Regression"
      ],
      "metadata": {
        "id": "xcEcXM0BCENa"
      }
    },
    {
      "cell_type": "code",
      "source": [
        "import pandas as pd\n",
        "from sklearn.model_selection import train_test_split\n",
        "from sklearn.linear_model import LinearRegression\n",
        "from sklearn.metrics import confusion_matrix\n",
        "\n",
        "# For reading data\n",
        "LinearData = pd.read_csv('kc_house_data.csv')\n",
        "\n",
        "# For selecting features and dividing them into independent and dependent variables\n",
        "X = LinearData.drop(['id', 'date', 'price'], axis=1)\n",
        "y = LinearData['price']\n",
        "\n",
        "# Split data into training and testing sets by 70:30 ratio\n",
        "X_train, X_test, y_train, y_test = train_test_split(X, y, test_size=0.3, random_state=42)\n",
        "\n",
        "# Create Linear Regression model and train using the training data\n",
        "Linear_Reg_Model = LinearRegression()\n",
        "Linear_Reg_Model.fit(X_train, y_train)\n",
        "\n",
        "# Calculate R-squared value\n",
        "r2 = Linear_Reg_Model.score(X_test, y_test)\n",
        "print(\"R-squared value:\", r2)\n",
        "\n",
        "\n",
        "\n"
      ],
      "metadata": {
        "colab": {
          "base_uri": "https://localhost:8080/"
        },
        "id": "tlZVFEpqyoIN",
        "outputId": "b949bb28-195c-42c4-d592-14e7e8ca1402"
      },
      "execution_count": null,
      "outputs": [
        {
          "output_type": "stream",
          "name": "stdout",
          "text": [
            "R-squared value: 0.6994627057969882\n"
          ]
        }
      ]
    },
    {
      "cell_type": "markdown",
      "source": [
        "### KNN Algorithm"
      ],
      "metadata": {
        "id": "pB5TRPMNEWPC"
      }
    },
    {
      "cell_type": "code",
      "source": [
        "import pandas as pd\n",
        "from sklearn.model_selection import train_test_split\n",
        "from sklearn.neighbors import KNeighborsRegressor\n",
        "from sklearn.metrics import r2_score\n",
        "\n",
        "# For reading data\n",
        "KNN_data = pd.read_csv('kc_house_data.csv')\n",
        "\n",
        "# For selecting features and dividing them into independent and dependent variables\n",
        "X = KNN_data.drop(['id', 'date', 'price'], axis=1)\n",
        "y = KNN_data['price']\n",
        "\n",
        "# Split data into training and testing sets by 70:30 ratio\n",
        "X_train, X_test, y_train, y_test = train_test_split(X, y, test_size=0.3, random_state=42)\n",
        "\n",
        "# Create KNN regressor and train using the training data\n",
        "KNN_Reg_Model = KNeighborsRegressor()\n",
        "KNN_Reg_Model.fit(X_train, y_train)\n",
        "\n",
        "# After the model has been trained, use testing data to make predictions\n",
        "y_pred = KNN_Reg_Model.predict(X_test)\n",
        "\n",
        "# Calculate R-squared score\n",
        "r2 = r2_score(y_test, y_pred)\n",
        "print(\"R-squared score:\", r2)\n",
        "\n"
      ],
      "metadata": {
        "colab": {
          "base_uri": "https://localhost:8080/"
        },
        "id": "tJ9tOu3V6Sub",
        "outputId": "3e80ad20-a82c-4559-bacb-d06326eccadd"
      },
      "execution_count": null,
      "outputs": [
        {
          "output_type": "stream",
          "name": "stdout",
          "text": [
            "R-squared score: 0.493181872434895\n"
          ]
        }
      ]
    }
  ]
}